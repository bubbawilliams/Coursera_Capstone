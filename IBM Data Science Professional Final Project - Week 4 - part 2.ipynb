{
 "cells": [
  {
   "cell_type": "markdown",
   "metadata": {},
   "source": [
    "# IBM Data Science Professional Capstone Project"
   ]
  },
  {
   "cell_type": "markdown",
   "metadata": {},
   "source": [
    "## Data"
   ]
  },
  {
   "cell_type": "markdown",
   "metadata": {},
   "source": [
    "#### To help judge the potential comfort of such a move, we will use Foursquare location data to explore New York City and Toronto neighborhoods. The Foresquare `explore` function, for example, will help us learn among other things the most common categories of venues in each neighborhood. \n",
    "\n",
    "#### We'll try to analyze, mathematically and otherwise, how else the neighborhoods in each city might be grouped based on their characterists--for example, by using the *k*-means clustering algorithm. \n",
    "\n",
    "#### To further help us grasp the similarities or differences between the cities on various scales, we'll use the Folium library to visualize the neighborhoods and their emerging clusters. \n",
    "\n",
    "#### We'll end discussing what conclusions we might help anxious New Yorkers make about the cultural and business compatability of a possible move to Toronto."
   ]
  }
 ],
 "metadata": {
  "kernelspec": {
   "display_name": "Python 3",
   "language": "python",
   "name": "python3"
  },
  "language_info": {
   "codemirror_mode": {
    "name": "ipython",
    "version": 3
   },
   "file_extension": ".py",
   "mimetype": "text/x-python",
   "name": "python",
   "nbconvert_exporter": "python",
   "pygments_lexer": "ipython3",
   "version": "3.7.3"
  }
 },
 "nbformat": 4,
 "nbformat_minor": 2
}
