{
 "cells": [
  {
   "cell_type": "markdown",
   "metadata": {},
   "source": [
    "# IBM Data Science Professional Capstone Project"
   ]
  },
  {
   "cell_type": "markdown",
   "metadata": {},
   "source": [
    "## Data"
   ]
  },
  {
   "cell_type": "markdown",
   "metadata": {},
   "source": [
    "#### To help judge the potential comfort of such a move, we will use Foursquare location data to explore New York City and Toronto neighborhoods. The **explore** function will help us learn the most common categories of venues in each neighborhood, and we'll find out how else the neighborhoods in each city might be grouped based on their characterists using the *k*-means clustering algorithm.  We'll use the Folium library to visualize the neighborhoods and their emerging clusters, and finally discuss what conclusions we might help anxious New Yorkers make about the cultural and business compatability of a possible move to Toronto."
   ]
  }
 ],
 "metadata": {
  "kernelspec": {
   "display_name": "Python 3",
   "language": "python",
   "name": "python3"
  },
  "language_info": {
   "codemirror_mode": {
    "name": "ipython",
    "version": 3
   },
   "file_extension": ".py",
   "mimetype": "text/x-python",
   "name": "python",
   "nbconvert_exporter": "python",
   "pygments_lexer": "ipython3",
   "version": "3.7.3"
  }
 },
 "nbformat": 4,
 "nbformat_minor": 2
}
