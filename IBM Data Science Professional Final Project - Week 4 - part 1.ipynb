{
 "cells": [
  {
   "cell_type": "markdown",
   "metadata": {},
   "source": [
    "# IBM Data Science Professional Capstone Project"
   ]
  },
  {
   "cell_type": "markdown",
   "metadata": {},
   "source": [
    "## Introduction"
   ]
  },
  {
   "cell_type": "markdown",
   "metadata": {},
   "source": [
    "#### New York City is having lots of trouble. \n",
    "\n",
    "#### Its mayor and the governor of New York state have been using their authority in clearly unfair ways--explicitly choosing to allow some New Yorkers to use their most basic rights--First Amendment rights--based mainly on the political preferences they share as hypocritical liberals, until a federal court ordered them to stop unfairly enforcing the most basic, important law in the country.\n",
    "\n",
    "#### Recent riots in the city haven't been met with enough police action to prevent gross amounts of property damage and personal injury; the mayor wants to decrease funding for the city's police; and even before the recent riots, crime had increased in the city, following the state changing bail laws, which allowed arrested suspects a greater chance for pre-trial freedom.  \n",
    "\n",
    "#### A fair number of people with the means to have recently left or are considering leaving NYC, not to mention business owners and possibly their businesses.\n",
    "\n",
    "#### Where might they go? Maybe another country? If they want to feel a minimal amount of culture shock, another big city? What about Canada--Toronto?\n",
    "\n",
    "#### We'll compare the similarity of neighborhoods in NYC and Toronto to estimate the degree to which a frustrated potentially  mobile New Yorker might find the latter to their liking as a new home or business base."
   ]
  }
 ],
 "metadata": {
  "kernelspec": {
   "display_name": "Python 3",
   "language": "python",
   "name": "python3"
  },
  "language_info": {
   "codemirror_mode": {
    "name": "ipython",
    "version": 3
   },
   "file_extension": ".py",
   "mimetype": "text/x-python",
   "name": "python",
   "nbconvert_exporter": "python",
   "pygments_lexer": "ipython3",
   "version": "3.7.3"
  }
 },
 "nbformat": 4,
 "nbformat_minor": 2
}
